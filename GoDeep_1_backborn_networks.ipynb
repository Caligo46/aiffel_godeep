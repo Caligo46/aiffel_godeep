{
 "cells": [
  {
   "cell_type": "markdown",
   "id": "korean-uncle",
   "metadata": {},
   "source": [
    "# ResNet 논문\n",
    "* 원본 논문 : Deep residual learning for image recognition\n",
    "https://arxiv.org/abs/1512.03385\n",
    "\n",
    "* Andrew Ng 교수님 C4W2L03 Resnets\n",
    "\n",
    "## ResNset 핵심 개념과 효과\n",
    "레이어를 깊이 쌓았을때 Vanishing / Exploding Gradient 문제가 발생하여 모델의 수렴을 방해함\n",
    "\n",
    "`Degrattion Problem` 레이어를 깊이 쌓았을 때 모델이 수렴하고 있음에도 오히려 레이어 개수가 적을 때보다 모델의 training/test error 가 더 커지는 현상이 발생함, 오버피팅의 현상이 아니라 네트워크 구조 상 레이어를 깊이 쌓았을때 최적화(?)가 잘 안되기 때문에 발생하는 문제\n",
    "\n",
    "### Resnet = Residual Block\n",
    "지름길 Shortcut connection, 레이어가 입력값을 직접 참조하도록 레이어를 변경, Shortcut connection 은 앞에서 입력으로 들어온 값(identity)을 네트워크의 출력층에 곧바로 더해줌"
   ]
  },
  {
   "cell_type": "markdown",
   "id": "bored-receptor",
   "metadata": {},
   "source": [
    "---\n",
    "# DenseNet\n",
    "ResNet 의 shortcut connection을 마치 Fully connected layer 처럼 촘촘히 엮어 성능 개선을 의도"
   ]
  },
  {
   "cell_type": "markdown",
   "id": "dangerous-reconstruction",
   "metadata": {},
   "source": [
    "## SENet\n",
    "Squeeze-and-Excitation Network\\\n",
    "CNN feature map + Attention\\\n",
    "1) Squeeze\n",
    "2) Excitate\n",
    "\n",
    "## NAS\n",
    "Neural Architecture Search"
   ]
  },
  {
   "cell_type": "markdown",
   "id": "native-bachelor",
   "metadata": {},
   "source": [
    "---\n",
    "## EfficientNet\n",
    "* Number of parameters\n",
    "* `Width`: CNN 채널, 특성을 표현하는 차원의 크기가 커짐\n",
    "* `Depth`: 네트워크의 깊이\n",
    "* `Resolution`: 입력값의 너비(w)와 높이(h), 입력이 클 수록 정보가 많아져 성능이 올라갈 여지가 생김\n",
    "\n",
    "### Compound Scaling\n",
    "1) Baseline network 구조를 미리 찾고 고정\n",
    "2) Scaling factor(compound coefficient)를 통해 모델의 크기를 조정함\n"
   ]
  }
 ],
 "metadata": {
  "kernelspec": {
   "display_name": "Python 3",
   "language": "python",
   "name": "python3"
  },
  "language_info": {
   "codemirror_mode": {
    "name": "ipython",
    "version": 3
   },
   "file_extension": ".py",
   "mimetype": "text/x-python",
   "name": "python",
   "nbconvert_exporter": "python",
   "pygments_lexer": "ipython3",
   "version": "3.7.9"
  }
 },
 "nbformat": 4,
 "nbformat_minor": 5
}
