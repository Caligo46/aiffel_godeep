{
 "cells": [
  {
   "cell_type": "markdown",
   "id": "funny-batman",
   "metadata": {},
   "source": [
    "# XAI, Explainable Artificial Intelligence\n",
    "\n",
    "* Activation map\n",
    "* Weakly supervised learning\n",
    "\n",
    "`Explainable AI, CAM(Class activation map), Grad-CAM, ACoL(Adversarial Complementary Learning)`\n",
    "\n",
    "## CAM Class Activation Map\n",
    "\n",
    "모델이 어떤 위치를 보고 클래스를 짐작하고 있는지 확인\n",
    "\n",
    "### GAP Global Average Pooling\n",
    "* CNN 레이어를 거쳐 특성을 추출하고, 특성 맵을 flattening 한 후 fully connected layer에 입력함으로 클래스에 따른 logit을 활성화 함수..\n",
    "\n",
    "* GAP 연산 : 특성맵의 각 채널이 한 개의 평균으로 요약되어 벡터화, 특성맵의 각 채널이 클래스 별 신뢰도를 나타내게 되어 해석시 쉽고, 최적화가 필요한 파라미터가 존재하지 않으므로 과적합(overfitting)을 방지할 수 있음\n",
    "\n",
    "* 각 클래스에 대한 정보는 결과값의 여러 채널을 통해 전달되고, GAP를 통해 채널별 정보를 요약하면 소프트맥스 레이어(소프트맥스 활성화 함수를 가지고 bias가 없는 fully connected layer)는 각 채널의 가중합을 구하고 클래스 별로 활성화 맵의 어떤 부분이 활성화되는지 알 수 있음.\n",
    "\n",
    "---\n",
    "\n",
    "## Grad-CAM\n",
    "* CAM을 사용할 경우, 활성화 맵을 얻기 위해 `GAP`을 사용하여 `f_k`를 구하고 , 그 뒤로 fully connected layer 를 추가로 붙여야함. 또 가장 마지막 CNN레이의 결과물만을 시각화 할 수 있음\n",
    "\n",
    "* `Grad-CAM` : CNN 기반의 네트워크 모델 구조를 변경할 필요없음.\n",
    "\n",
    "### Gradient 를 통한 Weight score 계산\n",
    "* backpropagation을 통해 얻은 k번째 채널의 그래디언트를 사용해 가중치 점수를 구함 -> 최적화 과정중 사용되는 그래디언트를 사용하기 때문에 별도의 가중치를 만들 필요가 없음\n",
    "\n",
    "---\n",
    "\n",
    "## ACoL \n",
    "* `Adverarial Complementary Learning` : 하나의 검출기가 출력한 특성맵에서 너무 높은 점수를 지지운 후, 다른 검출기에 입력하여 더 넓은 범위에서 더 세부적인 or 어려운 탐색을 진행함 -> 객체의 영역 전체를 찾아가기 때문에, 부가적으로 Segmentation 기법과 같이 활용할 수 있음\n",
    "\n",
    "* FC 레이어 대신, GAP 이전에 Conv1x1 레이어를 사용해 연산 소요 자원을 줄임\n",
    "\n"
   ]
  },
  {
   "cell_type": "code",
   "execution_count": null,
   "id": "confirmed-knight",
   "metadata": {},
   "outputs": [],
   "source": []
  }
 ],
 "metadata": {
  "kernelspec": {
   "display_name": "Python 3",
   "language": "python",
   "name": "python3"
  },
  "language_info": {
   "codemirror_mode": {
    "name": "ipython",
    "version": 3
   },
   "file_extension": ".py",
   "mimetype": "text/x-python",
   "name": "python",
   "nbconvert_exporter": "python",
   "pygments_lexer": "ipython3",
   "version": "3.7.9"
  }
 },
 "nbformat": 4,
 "nbformat_minor": 5
}
